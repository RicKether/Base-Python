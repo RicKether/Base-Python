{
 "cells": [
  {
   "cell_type": "code",
   "execution_count": 1,
   "id": "b20f4a96-0fd9-4370-bf4b-43e3343ba88b",
   "metadata": {},
   "outputs": [
    {
     "name": "stdout",
     "output_type": "stream",
     "text": [
      "A =  5\n"
     ]
    },
    {
     "name": "stdin",
     "output_type": "stream",
     "text": [
      "Digite o valor de B:  5\n"
     ]
    },
    {
     "name": "stdout",
     "output_type": "stream",
     "text": [
      "O número que você digitou foi 5\n",
      "X = A + B, logo X =  0\n"
     ]
    }
   ],
   "source": [
    "# OPERAÇÕES BÁSICAS, p1\n",
    "\n",
    "# Atribua um valor a uma variável e em seguida print o valor na tela\n",
    "# atribua um valor a uma variável digitado pelo usuário\n",
    "# Faça o print do valor atribuído pelo usuário\n",
    "# Atribua a uma variável um valor apartir de uma operação matemática realizada entre duas outras variáveis\n",
    "\n",
    "\n",
    "# a = 5\n",
    "# print(\"A = \",a)\n",
    "\n",
    "# b = int(input(\"Digite o valor de B: \"))\n",
    "\n",
    "# print(\"O número que você digitou foi\", b)\n",
    "\n",
    "# x = b - a\n",
    "# print(\"X = A + B, logo X = \",x)\n"
   ]
  },
  {
   "cell_type": "code",
   "execution_count": 2,
   "id": "c4e99e78-e823-46cc-98d2-a90ced831283",
   "metadata": {},
   "outputs": [
    {
     "name": "stdout",
     "output_type": "stream",
     "text": [
      "4 <class 'int'>\n",
      "4.0 <class 'float'>\n"
     ]
    }
   ],
   "source": [
    "# receba o valor de uma variável tipo inteiro, e em seguida altere o tipo da variável para float\n",
    "# Imprima na tela o tipo da variável\n",
    "\n",
    "\n",
    "# z = input(\"Digite o valor de Z:  \")\n",
    "# print(\"Z = \", z)\n",
    "# type(z)\n",
    "\n",
    "# h = float(z)\n",
    "# print(\"H = \",h)\n",
    "\n",
    "# type(h)"
   ]
  },
  {
   "cell_type": "code",
   "execution_count": 3,
   "id": "f4d47daa-d209-4fe6-92cd-1117d1712554",
   "metadata": {},
   "outputs": [
    {
     "name": "stdout",
     "output_type": "stream",
     "text": [
      "4 16\n"
     ]
    }
   ],
   "source": [
    "# eleve uma variável ao quadrado e print o resultado na tela\n",
    "\n",
    "\n",
    "# x = 4\n",
    "# y = x ** 2\n",
    "# print(f'x -> {x}')\n",
    "# print(f'y -> {y}')\n",
    "\n",
    "# Tipo booleano\n",
    "\n",
    "\n",
    "# a = True\n",
    "# print(type(a))"
   ]
  },
  {
   "cell_type": "code",
   "execution_count": 4,
   "id": "b32ce78b-dbb6-450a-89d0-25c26c528505",
   "metadata": {},
   "outputs": [
    {
     "name": "stdout",
     "output_type": "stream",
     "text": [
      "64 8.0\n"
     ]
    }
   ],
   "source": [
    "# Descubra a raiz quadrada de um número\n",
    "\n",
    "\n",
    "# x = 64\n",
    "\n",
    "# y = x ** 0.5\n",
    "\n",
    "# print(f'x: {x}; y: {y}')\n",
    "\n",
    "# x ** 0.5"
   ]
  },
  {
   "cell_type": "code",
   "execution_count": null,
   "id": "02d2bd03-2cc3-414d-baac-7c68e7292118",
   "metadata": {},
   "outputs": [],
   "source": [
    "# Use a função dir num objeto inteiro\n",
    "\n",
    "\n",
    "# a = 45\n",
    "\n",
    "# dir(a)\n",
    "\n",
    "\n",
    "# Obs:\n",
    "\n",
    "# A função dir() em Python é uma função embutida que retorna uma lista dos atributos e métodos de qualquer objeto, como funções, \n",
    "# módulos, strings, listas, dicionários, etc. \n",
    "# Ela é útil para depurar e explorar os objetos disponíveis em Python. \n",
    "# A sintaxe da função dir() é:\n",
    "\n",
    "# dir({objeto})"
   ]
  },
  {
   "cell_type": "code",
   "execution_count": null,
   "id": "85eef223-c3a3-4884-83b1-57860aeba74a",
   "metadata": {},
   "outputs": [],
   "source": [
    "#OBS: \n",
    "\n",
    "# Inicializção do modo interativo:\n",
    "# ??? -> Descobrir se tem modo interativo no jupter"
   ]
  },
  {
   "cell_type": "code",
   "execution_count": null,
   "id": "219b0aab-6723-471b-bccd-67a224842a4e",
   "metadata": {},
   "outputs": [],
   "source": [
    "# OBS: \n",
    "\n",
    "# Método help() -> sistema de ajuda itegrado\n",
    "# help()\n",
    "# para sair é só usar a letr 'q'"
   ]
  },
  {
   "cell_type": "code",
   "execution_count": 6,
   "id": "4e752869-e08a-415b-a938-49a1f93a1318",
   "metadata": {},
   "outputs": [
    {
     "name": "stdout",
     "output_type": "stream",
     "text": [
      "4 5\n"
     ]
    }
   ],
   "source": [
    "# inicializando duas variáveis num mesmo argumento:\n",
    "# E printando as duas usando concatenação, f, e format\n",
    "\n",
    "\n",
    "# age, name = (23, 'Joao')\n",
    "\n",
    "# Obs: Várias formas de trabalhar com concatenação\n",
    "\n",
    "# print(age,',', name)\n",
    "# print('{}, {}'.format(age, name))\n",
    "# print(f'A idade é {age}, e o nome é {name}')\n"
   ]
  },
  {
   "cell_type": "code",
   "execution_count": null,
   "id": "aafd624d-5a9e-4481-918a-77323b2dcff9",
   "metadata": {},
   "outputs": [],
   "source": [
    "# OBS: Constantes em Python\n",
    "\n",
    "# Não existe uma palavra reservada em python para declarar constantes, ou seja, não existe\n",
    "# ... Mas, há uma convenção de que uma variável declarada toda em maiúsculas, não deve ser alterada\n",
    "\n",
    "# Ex: DEBUG = True | STATES = ['SP','RJ','PE'] | PI = 3.14\n"
   ]
  },
  {
   "cell_type": "code",
   "execution_count": 7,
   "id": "e36d5188-da65-4b7c-ba37-67f02c2487e0",
   "metadata": {},
   "outputs": [
    {
     "name": "stdout",
     "output_type": "stream",
     "text": [
      "14\n",
      "15\n"
     ]
    }
   ],
   "source": [
    "#  Divisão com saída inteira (ou seja, retirando as casas decimais de uma divisão não inteira) \n",
    "from math import ceil\n",
    "\n",
    "\n",
    "# import math\n",
    "\n",
    "# print(math.ceil(25 / 4))\n",
    "\n",
    "# print(25 // 4) # Repete-se as barras para uma saída inteira\n",
    "\n",
    "# Obs: Com o uso de ceil o resultado é o próximo inteiro;\n",
    "# Com o sistema convencional de \"//\" o resto é ignorado retornando o valor inteiro sem as casas decimais"
   ]
  },
  {
   "cell_type": "code",
   "execution_count": 11,
   "id": "b884118f-f910-41bf-b3b4-f10a69cf411a",
   "metadata": {},
   "outputs": [
    {
     "name": "stdout",
     "output_type": "stream",
     "text": [
      "3.14486266151518\n",
      "3.14\n",
      "      3.14\n"
     ]
    }
   ],
   "source": [
    "# Formatar o valor de PI com 2 casas decimais\n",
    "# Em seguida formatar com dez casas vazias até aparecer o valor\n",
    "\n",
    "\n",
    "# a = 3.1448565121\n",
    "\n",
    "\n",
    "# print(f'Valor de PI: {a:.2f}, com apenas duas casas decimais depois da vírgula.')\n",
    "# print(f'Valor de PI: {a:10.2f}, com dez casas vazias até aparecer o valor.')"
   ]
  },
  {
   "cell_type": "code",
   "execution_count": 5,
   "id": "3d115af8-d0eb-4c23-a666-10b00cdd9412",
   "metadata": {},
   "outputs": [
    {
     "data": {
      "text/plain": [
       "True"
      ]
     },
     "execution_count": 5,
     "metadata": {},
     "output_type": "execute_result"
    }
   ],
   "source": [
    "#  OBS: EQUAÇÕES\n",
    "# Precedência nas operações: \n",
    "#     1. Parênteses\n",
    "#     2. Expoentes\n",
    "#     3. Multiplicação e Divisões\n",
    "#     4. Somas e subtrações\n"
   ]
  },
  {
   "cell_type": "code",
   "execution_count": 12,
   "id": "07eef83d-3c7a-412f-a709-1ea9e1750de0",
   "metadata": {},
   "outputs": [
    {
     "name": "stdout",
     "output_type": "stream",
     "text": [
      "True\n",
      "False\n"
     ]
    }
   ],
   "source": [
    "# Use o operador lógico \" not \" para uma saída falsa e uma verdadeira\n",
    "\n",
    "\n",
    "# not 1000 > 1500\n",
    "# not 1500 > 1000"
   ]
  },
  {
   "cell_type": "code",
   "execution_count": 13,
   "id": "7704594c-4885-4874-a81a-24cda73c2f8c",
   "metadata": {},
   "outputs": [
    {
     "name": "stdout",
     "output_type": "stream",
     "text": [
      "python\n",
      "PYTHON\n",
      "python\n",
      "Python\n"
     ]
    }
   ],
   "source": [
    "# Strings\n",
    "\n",
    "# Conhecendo métodos úteis da classe string\n",
    "# Criar uma variável string\n",
    "# Maiúsculo\n",
    "# Minúsculo\n",
    "# Título (Imprime com a primeira letra em miúsculo e as demais em minúsculo)\n",
    "\n",
    "\n",
    "# curso = \"pYtHon\"\n",
    "\n",
    "# print(curso.upper())\n",
    "\n",
    "# print(curso.lower())\n",
    "\n",
    "# print(curso.title())\n"
   ]
  },
  {
   "cell_type": "code",
   "execution_count": 14,
   "id": "54dce626-02ff-4860-9772-35336dbadb25",
   "metadata": {},
   "outputs": [
    {
     "name": "stdout",
     "output_type": "stream",
     "text": [
      "yes     python     yes\n",
      "yes python yes\n",
      "yes python     yes\n",
      "yes     python yes\n"
     ]
    }
   ],
   "source": [
    "# Remoção dos espaços antes e depois da string\n",
    "\n",
    "\n",
    "# curso = 'Python'\n",
    "# print(curso.strip()) # remove espaços dos dois lados\n",
    "\n",
    "# print(curso.lstrip()) # remove o espaço à esqueda\n",
    "\n",
    "# print(curso .rstrip()) # remove o es espaço à direita"
   ]
  },
  {
   "cell_type": "code",
   "execution_count": 16,
   "id": "e34d3c11-60d3-4747-aa13-db7bd729fff8",
   "metadata": {},
   "outputs": [
    {
     "name": "stdout",
     "output_type": "stream",
     "text": [
      "python\n",
      "##python##\n",
      "p.y.t.h.o.n\n"
     ]
    }
   ],
   "source": [
    "# Junções e centralizações\n",
    "   \n",
    "    \n",
    "# print(curso.center(10,\"#\")) # Centralização (obs: 10 é o nº de caracteres somando os caracteres da própria string)\n",
    "\n",
    "# print(\".\".join(curso)) # Junção "
   ]
  },
  {
   "cell_type": "code",
   "execution_count": 20,
   "id": "6bc010c9-2049-4122-bc7c-cc2f6a96936f",
   "metadata": {},
   "outputs": [
    {
     "name": "stdout",
     "output_type": "stream",
     "text": [
      "r\n",
      "RcroNvsd iv\n",
      "Avlis Ad Seven Odracir\n",
      "do Ne\n",
      "Ricardo\n",
      " Neves da Silva\n"
     ]
    }
   ],
   "source": [
    "# Fatiamento de string\n",
    "# encontrar a 5ª letra de uma palavra\n",
    "# Imprimir as casas de 2 em 2\n",
    "# Imprimir um nome ao contrário\n",
    "# Imprimir um nome num intervalo 5:10\n",
    "# Imprimir um nome até o índice 7\n",
    "# Imprimir um nome a partir do índice 7\n",
    "\n",
    "\n",
    "# nome = \"Ricardo Neves da Silva\"\n",
    "\n",
    "# print(nome[0])\n",
    "\n",
    "# print(nome[:8])\n",
    "\n",
    "# print(nome[8:])\n",
    "\n",
    "# print(nome[8:13])\n",
    "\n",
    "# print(nome[8:13:2])\n",
    "\n",
    "# print(nome[:])\n",
    "\n",
    "# print(nome[::-1])\n",
    "\n",
    "\n",
    "# Obs: Lembrar [start:stop:step]"
   ]
  },
  {
   "cell_type": "code",
   "execution_count": 21,
   "id": "ab7347cb-bf7e-457c-9faf-4e383f77f6a1",
   "metadata": {},
   "outputs": [
    {
     "name": "stdout",
     "output_type": "stream",
     "text": [
      "Ricardo escreveu o seguinte: \n",
      "\n",
      "    O cara do bar\n",
      "         É meu amigo\n",
      "\n",
      "\n"
     ]
    }
   ],
   "source": [
    "# String múltiplas linhas\n",
    "\n",
    "\n",
    "# nome = 'Ricardo'\n",
    "\n",
    "# mensagem = f'''\n",
    "#     Olá, meu nome é {nome},\n",
    "# Eu estou aprendendo python.\n",
    "#         Esta mensagem tem diferentes recuos.\n",
    "# '''\n",
    "# print(mensagem)"
   ]
  },
  {
   "cell_type": "code",
   "execution_count": 1,
   "id": "770840a7-cd3d-451f-8fbc-d49ec8b439d9",
   "metadata": {
    "tags": []
   },
   "outputs": [
    {
     "name": "stdout",
     "output_type": "stream",
     "text": [
      "6 é maior\n"
     ]
    }
   ],
   "source": [
    "# Estrutura de Decisão IF, p2\n",
    "\n",
    "# receba duas variáveis do usuário  e em seguida utilize o if para\n",
    "# printar qual dos dois valores é maior\n",
    "    \n",
    "\n",
    "    \n",
    "# a = int(input(\"Digite o valor de A: \"))\n",
    "# b = int(input(\"Digite o valor de B: \"))\n",
    "\n",
    "# if(a > b):\n",
    "#     print(\"A é maior que B, porque: \", a, \" > \", b)\n",
    "# elif(a < b):\n",
    "#     print(\"B é maior que A, porque: \", b, \" > \", a)\n",
    "# else:\n",
    "#     print(\"A e B são iguais, porque: \", b, \" = \", a)\n",
    "        "
   ]
  },
  {
   "cell_type": "code",
   "execution_count": 3,
   "id": "e0a0e289-0f97-412b-b7c4-5dc2f80edcf4",
   "metadata": {},
   "outputs": [
    {
     "name": "stdout",
     "output_type": "stream",
     "text": [
      "A: 10 é igual a B: 10\n"
     ]
    }
   ],
   "source": [
    "# Outro exemplo usando o elif\n",
    "\n",
    "\n",
    "# if (a<b):\n",
    "#     print(\"A é menor que B\")\n",
    "# elif(a>b):\n",
    "#     print(\"A é maior que B\")\n",
    "# else:\n",
    "#     print(\"A e B são iguais\")"
   ]
  },
  {
   "cell_type": "code",
   "execution_count": 1,
   "id": "1131aab6-5f68-421b-a475-b759506952a8",
   "metadata": {},
   "outputs": [
    {
     "name": "stdout",
     "output_type": "stream",
     "text": [
      "A não é o maior de todos\n"
     ]
    }
   ],
   "source": [
    "# Utilize a estrutura IF combindada a cláusulas lógicas (ex: or, and, etc)\n",
    "\n",
    "\n",
    "# if (a + b > 15 and x + a > 30):\n",
    "#     print(\"Ok\")\n",
    "# else:\n",
    "#     print(\"Não\")"
   ]
  },
  {
   "cell_type": "code",
   "execution_count": null,
   "id": "30f45702-13f9-4164-ba53-feabe21da53d",
   "metadata": {},
   "outputs": [],
   "source": [
    "# Estruturas de Repetição, p2\n",
    "# While"
   ]
  },
  {
   "cell_type": "code",
   "execution_count": null,
   "id": "c1ce1dc3-c4d1-41af-8a5c-881fbb2659fc",
   "metadata": {},
   "outputs": [],
   "source": [
    "# Crie um laço usando while que printe de 0 a 10\n",
    "\n",
    "\n",
    "# count = 10\n",
    "# a = 0\n",
    "\n",
    "# while(a <= count):\n",
    "#     print(a)\n",
    "#     a+=1"
   ]
  },
  {
   "cell_type": "code",
   "execution_count": null,
   "id": "e059728b-574b-495a-9658-1961f9f8240a",
   "metadata": {
    "tags": []
   },
   "outputs": [],
   "source": [
    "# Estruturas de Repetição FOR p2\n"
   ]
  },
  {
   "cell_type": "code",
   "execution_count": null,
   "id": "e309efd2-11fb-4385-ad90-ef2dcbccbe3b",
   "metadata": {},
   "outputs": [],
   "source": [
    "# crie uma estutura de repetição for in range, indicando (start, stop, step)\n",
    "\n",
    "\n",
    "\n",
    "# for r in range(0, 10, 1): Onde o terceiro é o parâmetro de incremento (? pesqusar se respeita: (start:stop:step), aparentemente sim)\n",
    "# print(r)"
   ]
  },
  {
   "cell_type": "code",
   "execution_count": null,
   "id": "b37a2801-850c-427d-87fa-3aa91dd62af2",
   "metadata": {},
   "outputs": [],
   "source": [
    "# Use o for para printar na tela de um em um, até dez\n",
    "\n",
    "\n",
    "# for r in range(0, 10):\n",
    "#     print(r)"
   ]
  },
  {
   "cell_type": "code",
   "execution_count": null,
   "id": "7150b033-aa94-420f-b9e5-3a5d46a26d16",
   "metadata": {},
   "outputs": [],
   "source": [
    "# use o for para printar de dois em dois de zero a dez\n",
    "\n",
    "\n",
    "# for n in range(0, 10, 2):\n",
    "#     print (n)"
   ]
  },
  {
   "cell_type": "code",
   "execution_count": null,
   "id": "2c0f188d-5f1c-46c9-af6f-958ab70eb631",
   "metadata": {},
   "outputs": [],
   "source": [
    "# use o for para achar um número entre 0 e 5\n",
    "# em seguida use o IF para printar a variável na tela\n",
    "\n",
    "\n",
    "# for n in range (0, 5):\n",
    "#     if n == 3:\n",
    "#         break\n",
    "#     print(n)\n",
    "    \n",
    "# for n in range(0, 5):\n",
    "#     if n==2:\n",
    "#         continue"
   ]
  },
  {
   "cell_type": "code",
   "execution_count": null,
   "id": "32385207-3044-402d-80a6-1d9eb1d1fd2e",
   "metadata": {},
   "outputs": [],
   "source": [
    "# LISTAS, p3"
   ]
  },
  {
   "cell_type": "code",
   "execution_count": 2,
   "id": "37d5fd54-46d5-4398-ab0d-1cb16c376af0",
   "metadata": {},
   "outputs": [],
   "source": [
    "# Crie uma lista e print na tela\n",
    "\n",
    "\n",
    "# lista = [8, 9, 15, 21, 42]\n",
    "# print(lista)"
   ]
  },
  {
   "cell_type": "code",
   "execution_count": null,
   "id": "40059282-adcf-4460-b5ab-7a8abd0970b3",
   "metadata": {},
   "outputs": [],
   "source": [
    "# Use o for in range e o while para printar a lista criada\n",
    "\n",
    "\n",
    "# for n in range (0, 5):\n",
    "#     print(n, lista[n])\n",
    "\n",
    "# print('---------')\n",
    "    \n",
    "# count = 0\n",
    "# while (count < 5):\n",
    "#     print(count, lista[count])\n",
    "#     count += 1\n",
    "    \n",
    "   \n",
    "# for n in range (1, 6):\n",
    "# print(n, lista[n - 1])"
   ]
  },
  {
   "cell_type": "code",
   "execution_count": null,
   "id": "870851dd-4f9a-4be5-bbe3-1301dd94412c",
   "metadata": {},
   "outputs": [],
   "source": [
    "# Formas de se criar uma lista"
   ]
  },
  {
   "cell_type": "code",
   "execution_count": null,
   "id": "53a9d020-19e7-468c-a326-853d9b5ef173",
   "metadata": {},
   "outputs": [],
   "source": [
    "# Crie uma lista com valores de vários tipos\n",
    "\n",
    "\n",
    "# l2 = [15, 'carinho', 5.6, True]\n",
    "# print(l2)\n",
    "\n",
    "# listB = [3, 3.6, \"listas\", True] # Listas podem ter todos os tipos de dados na mesma lista\n",
    "# print(listB)"
   ]
  },
  {
   "cell_type": "code",
   "execution_count": null,
   "id": "456753b9-46ba-4520-9e59-64a9654f1dc8",
   "metadata": {},
   "outputs": [],
   "source": [
    "# Mostre os tipos dos elementos na lista\n",
    "\n",
    "\n",
    "# type(l2[1])\n",
    "\n",
    "# type(listB[2])"
   ]
  },
  {
   "cell_type": "code",
   "execution_count": null,
   "id": "e4c71f34-6185-446e-831b-ec6635ae4cc5",
   "metadata": {},
   "outputs": [],
   "source": [
    "# Crie uma lista em que um dos elementos é outra lista\n",
    "\n",
    "\n",
    "# l3 = [2, 86, [1, 2, 3, 5], 15]\n",
    "# type(l3[2])\n",
    "\n",
    "\n",
    "# listC = [7, 9, [1, 5, 6, 9], 4] # Listas dentro de listas são possíveis\n",
    "# print (listC)\n",
    "# type(listC[2])"
   ]
  },
  {
   "cell_type": "code",
   "execution_count": 2,
   "id": "ba123425-fd54-4f5c-a04e-c008842e819b",
   "metadata": {},
   "outputs": [
    {
     "data": {
      "text/plain": [
       "[2, 4, 6, 8]"
      ]
     },
     "execution_count": 2,
     "metadata": {},
     "output_type": "execute_result"
    }
   ],
   "source": [
    "# Crie uma lista aplicando o método range\n",
    "\n",
    "\n",
    "# l4 = list(range(2, 10, 2))\n",
    "# print(l4)\n",
    "\n",
    "# ListRange = list(range(5, 25, 3))\n",
    "# print(ListRange)\n",
    "\n",
    "# listD = list(range(2, 17, 2))\n",
    "# print(listD)"
   ]
  },
  {
   "cell_type": "code",
   "execution_count": null,
   "id": "c06e8c7a-531b-48d6-9d31-239a7f4a6163",
   "metadata": {},
   "outputs": [],
   "source": [
    "# função para imprimir o tamanho da listC\n",
    "\n",
    "\n",
    "# print(len(l4))\n",
    "    \n",
    "# print(len(listC))"
   ]
  },
  {
   "cell_type": "code",
   "execution_count": 12,
   "id": "7bcf9c07-5cb3-4e01-a2a2-7a16899df17b",
   "metadata": {},
   "outputs": [
    {
     "name": "stdout",
     "output_type": "stream",
     "text": [
      "[30, 2, 34]\n"
     ]
    },
    {
     "data": {
      "text/plain": [
       "[1, 900, 441, 4, 81, 4225, 1156]"
      ]
     },
     "execution_count": 12,
     "metadata": {},
     "output_type": "execute_result"
    }
   ],
   "source": [
    "# Acesse um elemento da lista\n",
    "\n",
    "\n",
    "# print(l4[2])\n",
    "# print(listA[2])\n",
    "# print(listB[2])"
   ]
  },
  {
   "cell_type": "code",
   "execution_count": null,
   "id": "0004ac07-ff8c-4e54-808a-1ba7e166405d",
   "metadata": {},
   "outputs": [],
   "source": [
    "# Altere um elemento da lista\n",
    "\n",
    "\n",
    "# l4[1] = 8\n",
    "\n",
    "# listC[1] = True\n",
    "# print(listC)"
   ]
  },
  {
   "cell_type": "code",
   "execution_count": 4,
   "id": "b2c9d8b5-a897-4d59-851d-5bac412d806b",
   "metadata": {},
   "outputs": [
    {
     "name": "stdout",
     "output_type": "stream",
     "text": [
      "1 2\n",
      "2 3\n",
      "3 4\n",
      "4 5\n",
      "5 6\n",
      "6 7\n"
     ]
    }
   ],
   "source": [
    "# Percorra uma lista utilizando FOR IN RANGE\n",
    "\n",
    "\n",
    "\n",
    "# for x in range(0, len(l3)):\n",
    "#     print(x, l3[x])\n",
    "\n",
    "# for n in range (0, len(listA)):\n",
    "#     print(n + 1, listA[n])\n",
    "    \n",
    "# for n in range (0, len(listB)):\n",
    "#     print (n + 1, listB[n])\n",
    "    \n",
    "# for n in range (0, len(listC)):\n",
    "#     print(n + 1, listC[n])"
   ]
  },
  {
   "cell_type": "code",
   "execution_count": 5,
   "id": "6b3aeb25-c049-44fb-9682-05ff798b9c0c",
   "metadata": {},
   "outputs": [
    {
     "data": {
      "text/plain": [
       "['R', 'i', 'c', 'a', 'r', 'd', 'o']"
      ]
     },
     "execution_count": 5,
     "metadata": {},
     "output_type": "execute_result"
    }
   ],
   "source": [
    "# Salvando cada letra de um nome, de modo que cada letra seja um objeto da lista\n",
    "\n",
    "\n",
    "# letras = list(\"Miguel\")\n",
    "# print(letras)"
   ]
  },
  {
   "cell_type": "code",
   "execution_count": 1,
   "id": "a7628344-2ad9-4675-be0c-f65a8f20fce6",
   "metadata": {},
   "outputs": [
    {
     "name": "stdout",
     "output_type": "stream",
     "text": [
      "[2, 7, 12, 17, 22, 27, 32, 37, 42, 47]\n",
      "[2, 12, 22, 32, 42]\n"
     ]
    }
   ],
   "source": [
    "# Compreension\n",
    "# imprimir os números pares de uma lista usando Compression\n",
    "\n",
    "\n",
    "# numeros = [1, 30, 21, 2, 9, 65, 34]\n",
    "\n",
    "# pares = [a for a in numeros if a % 2 == 0]\n",
    "# pares\n",
    "\n",
    "\n",
    "# Obs(estudo do compreension):\n",
    "    \n",
    "#     Outra maneira de realizar a seguinte operação:\n",
    "# pares=[]\n",
    "# for numero in numeros:  \n",
    "#     if (numero % 2 == 0):\n",
    "#         pares.append(numero)\n",
    "# print(pares)\n",
    "   \n",
    "   \n",
    "   \n",
    "# Obs: Procurar funções nativas para ordenar a lista por ordem crescente"
   ]
  },
  {
   "cell_type": "code",
   "execution_count": null,
   "id": "1bb23338-73b8-4690-8bf2-4c265ddf7bd5",
   "metadata": {},
   "outputs": [],
   "source": [
    "# função para ordenar uma lista  de inteiros em ordem crescente em python\n",
    "\n",
    "\n",
    "# pares.sort()\n",
    "# pares\n",
    "\n",
    "# Obs: Procurar funções nativas para ordenar a lista por ordem crescente"
   ]
  },
  {
   "cell_type": "code",
   "execution_count": 10,
   "id": "e89a04ce-0adf-473e-888b-9967301bee78",
   "metadata": {},
   "outputs": [
    {
     "name": "stdout",
     "output_type": "stream",
     "text": [
      "[0, 1, 2, 3, 4, 5, 6, 7, 8, 9]\n",
      "[0, 1, 4, 9, 16, 25, 36, 49, 64, 81]\n"
     ]
    }
   ],
   "source": [
    "# Elevar a lista ao quadrado usando compreension\n",
    "\n",
    "\n",
    "# quadrado = [numero ** 2 for numero in numeros]\n",
    "# quadrado"
   ]
  },
  {
   "cell_type": "code",
   "execution_count": null,
   "id": "3650c625-7a1a-489d-9eb4-3185999a8f8c",
   "metadata": {},
   "outputs": [],
   "source": [
    "# Dicionários: p4\n",
    "# Estruturas de {'chave':valor}"
   ]
  },
  {
   "cell_type": "code",
   "execution_count": 2,
   "id": "e83ce411-b31b-446a-abf1-81083025f5e5",
   "metadata": {},
   "outputs": [
    {
     "data": {
      "text/plain": [
       "dict"
      ]
     },
     "execution_count": 2,
     "metadata": {},
     "output_type": "execute_result"
    }
   ],
   "source": [
    "# Crie um dicionário e em seguida print na tela\n",
    "\n",
    "\n",
    "\n",
    "# Soldado = {101: 'Ronaldo', 102: 'Betinho', 103: 'Jorge'}\n",
    "# Notas = {'Rafael': 5, 'Maria': 9, 'Renata': 7}\n",
    "\n",
    "# print(Soldado)\n",
    "# print(Notas)"
   ]
  },
  {
   "cell_type": "code",
   "execution_count": null,
   "id": "86a748bd-acbc-4314-a5de-cd8a711b3dcb",
   "metadata": {},
   "outputs": [],
   "source": [
    "# Criar dicoionário usando classe dict\n",
    "\n",
    "\n",
    "# pessoa = dict(nome=\"Guilherme\", idade=28)\n",
    "# print(pessoa)"
   ]
  },
  {
   "cell_type": "code",
   "execution_count": null,
   "id": "f13b96bf-3338-41b0-9283-017e39d1bc6f",
   "metadata": {},
   "outputs": [],
   "source": [
    "# Use o método keys para printar Todas as Chaves\n",
    "\n",
    "\n",
    "# Soldado.keys()\n",
    "# Notas.keys()"
   ]
  },
  {
   "cell_type": "code",
   "execution_count": null,
   "id": "95b4c15f-34fd-44f1-b464-19b86e8bd425",
   "metadata": {},
   "outputs": [],
   "source": [
    "# Use o método values para printar Todos os Valores\n",
    "\n",
    "\n",
    "# Soldado.values()\n",
    "# Notas.values()"
   ]
  },
  {
   "cell_type": "code",
   "execution_count": null,
   "id": "5d159879-e46d-4c46-9191-a367e4ede062",
   "metadata": {},
   "outputs": [],
   "source": [
    "# Teste logicamente a existência (in)\n",
    "\n",
    "\n",
    "# print(101 in Soldado)\n",
    "# print(104 in Soldado)\n",
    "# print('Ronaldo' in Soldado) # Curioso que ele só procura nas chaves, se procurar o valor, ainda que exista, retorna false\n",
    "\n",
    "# print('Rafael' in Notas)\n",
    "# print('Robson' in Notas)\n"
   ]
  },
  {
   "cell_type": "code",
   "execution_count": null,
   "id": "47ccf13f-fad3-47df-ab98-70928d90dfcf",
   "metadata": {},
   "outputs": [],
   "source": [
    "# Apague um elemento (del)\n",
    "\n",
    "\n",
    "# del(Soldado[101])\n",
    "# print(Soldado)\n",
    "\n",
    "# del(Notas['Rafael'])\n",
    "# print (Notas)"
   ]
  },
  {
   "cell_type": "code",
   "execution_count": null,
   "id": "dbd1d62b-1109-49e9-9d7d-717672cf18d1",
   "metadata": {},
   "outputs": [],
   "source": [
    "# Inclua um elemento\n",
    "\n",
    "\n",
    "# Soldado[104] = 'Luiz'\n",
    "# print(Soldado)\n",
    "\n",
    "# Notas['João'] = 6\n",
    "# Notas['Letícia'] = 4\n",
    "# print(Notas)"
   ]
  },
  {
   "cell_type": "code",
   "execution_count": 1,
   "id": "31e3a370-6e06-4026-8283-a31b040509cc",
   "metadata": {},
   "outputs": [
    {
     "name": "stdout",
     "output_type": "stream",
     "text": [
      "{'nome': 'Guilherme', 'idade': 28}\n"
     ]
    }
   ],
   "source": [
    "# Busca um valor, se não encontrar mostra um segundo parâmentro (get)\n",
    "\n",
    "\n",
    "\n",
    "# soldado.get(int(input('escreva código do soldado:')), 'não encontrado.')\n",
    "\n",
    "# Soldado.get(106, \"Não há um soldado com essa identificação\")\n",
    "# Soldado.get(102, \"Não há um soldado com essa identificação\")\n",
    "\n",
    "# notas = {101: 'Marcella', 102: 'Maurício', 103: 'Mário'}\n",
    "# notas.get(101, \"Não encontrado\") # Também só busca a chave, o valor dá sempre não encontrado\n",
    "\n"
   ]
  },
  {
   "cell_type": "code",
   "execution_count": null,
   "id": "fc83e495-d89a-4b28-ac3f-a9a5789a570a",
   "metadata": {},
   "outputs": [],
   "source": [
    "# SETS: p5\n",
    "# Conjuntos de números não ordenados e não repetíveis"
   ]
  },
  {
   "cell_type": "code",
   "execution_count": 3,
   "id": "0ef88fc7-ca2c-412f-b967-24e8537a7675",
   "metadata": {},
   "outputs": [
    {
     "data": {
      "text/plain": [
       "{1, 2, 3, 5, 7, 11}"
      ]
     },
     "execution_count": 3,
     "metadata": {},
     "output_type": "execute_result"
    }
   ],
   "source": [
    "# Crie um SET\n",
    "\n",
    "\n",
    "primos = {1,2,3,5,7,11}\n",
    "primos"
   ]
  },
  {
   "cell_type": "code",
   "execution_count": 4,
   "id": "beadd487-3425-4323-a43f-5cfe423aec2a",
   "metadata": {},
   "outputs": [
    {
     "data": {
      "text/plain": [
       "{1, 2, 3, 5, 7, 8, 11}"
      ]
     },
     "execution_count": 4,
     "metadata": {},
     "output_type": "execute_result"
    }
   ],
   "source": [
    "# Adicionar elemento ordenado de acordo com o valor dentro da lista\n",
    "\n",
    "\n",
    "primos.add(8)\n",
    "primos"
   ]
  },
  {
   "cell_type": "code",
   "execution_count": 5,
   "id": "6ab59f0e-bc12-4523-b3f6-3f986faee910",
   "metadata": {},
   "outputs": [
    {
     "data": {
      "text/plain": [
       "1"
      ]
     },
     "execution_count": 5,
     "metadata": {},
     "output_type": "execute_result"
    }
   ],
   "source": [
    "# Remover primeiro elemento e retornar números exluído\n",
    "\n",
    "\n",
    "primos.pop()"
   ]
  },
  {
   "cell_type": "code",
   "execution_count": 6,
   "id": "01f2afe5-360a-456d-95a0-724648d46eb0",
   "metadata": {},
   "outputs": [
    {
     "data": {
      "text/plain": [
       "{2, 3, 5, 7, 8}"
      ]
     },
     "execution_count": 6,
     "metadata": {},
     "output_type": "execute_result"
    }
   ],
   "source": [
    "# Remover um elemento qualquer\n",
    "\n",
    "\n",
    "primos.remove(11)\n",
    "primos"
   ]
  },
  {
   "cell_type": "code",
   "execution_count": 27,
   "id": "5c3cce75-242b-4795-8217-1b5bee0d2597",
   "metadata": {},
   "outputs": [
    {
     "data": {
      "text/plain": [
       "{2, 5, 7, 8}"
      ]
     },
     "execution_count": 27,
     "metadata": {},
     "output_type": "execute_result"
    }
   ],
   "source": [
    "# Aplique o descarte\n",
    "\n",
    "\n",
    "primos.discard(3)\n",
    "primos\n",
    "\n",
    "# Obs: Não possuem indexação, para acessar valores é preciso transformar em listas\n",
    "\n",
    "# **Diferença do uso do remove() e discard()** -> Em conjunto.remove() gera uma exceção se o elemento não estiver presente no conjunto, \n",
    "# enquanto conjunto.discard() não gera nenhuma exceção."
   ]
  },
  {
   "cell_type": "code",
   "execution_count": 28,
   "id": "661308e0-96b8-409c-a561-749b83ee599b",
   "metadata": {},
   "outputs": [
    {
     "data": {
      "text/plain": [
       "{(5, 6), 1, 'cachorro-quente'}"
      ]
     },
     "execution_count": 28,
     "metadata": {},
     "output_type": "execute_result"
    }
   ],
   "source": [
    "# Crie um SET com elementos de vários tipos - Obs: Os elementos precisam poder ser usados como chave numa tabela hash para funcionar\n",
    "\n",
    "\n",
    "tipos = {1, (5,6), 'cachorro-quente'}\n",
    "tipos"
   ]
  },
  {
   "cell_type": "code",
   "execution_count": 11,
   "id": "07bcff7b-e2ca-4500-b410-fd7e6efb0a7b",
   "metadata": {},
   "outputs": [
    {
     "name": "stdout",
     "output_type": "stream",
     "text": [
      "False\n"
     ]
    }
   ],
   "source": [
    "# Verificar logicamente a existência de um elemento\n",
    "\n",
    "\n",
    "\n",
    "print(10 in primos)"
   ]
  },
  {
   "cell_type": "code",
   "execution_count": 12,
   "id": "10edabab-52b6-415b-a24c-4838c1e58ba6",
   "metadata": {},
   "outputs": [
    {
     "data": {
      "text/plain": [
       "5"
      ]
     },
     "execution_count": 12,
     "metadata": {},
     "output_type": "execute_result"
    }
   ],
   "source": [
    "# Número de elementos\n",
    "\n",
    "\n",
    "len(primos)"
   ]
  },
  {
   "cell_type": "code",
   "execution_count": 13,
   "id": "090f907c-28b6-41f6-b5db-19a49ae25631",
   "metadata": {},
   "outputs": [
    {
     "data": {
      "text/plain": [
       "{2, 4, 6, 8, 9, 10, 12}"
      ]
     },
     "execution_count": 13,
     "metadata": {},
     "output_type": "execute_result"
    }
   ],
   "source": [
    "# criar mais um conjunto para as próximas operações\n",
    "\n",
    "\n",
    "nao_primos = {2,4,6,8,9,10,12}\n",
    "nao_primos"
   ]
  },
  {
   "cell_type": "code",
   "execution_count": 14,
   "id": "1e386567-4f23-4cc2-87e0-ce0174bb5d16",
   "metadata": {},
   "outputs": [
    {
     "data": {
      "text/plain": [
       "{2, 3, 4, 5, 6, 7, 8, 9, 10, 12}"
      ]
     },
     "execution_count": 14,
     "metadata": {},
     "output_type": "execute_result"
    }
   ],
   "source": [
    "# apliuque a unão dos conjuntos - union\n",
    "\n",
    "\n",
    "uniao = primos.union(nao_primos)\n",
    "uniao"
   ]
  },
  {
   "cell_type": "code",
   "execution_count": 15,
   "id": "09809778-cedb-4a0a-8fc1-36b501d3e557",
   "metadata": {},
   "outputs": [
    {
     "data": {
      "text/plain": [
       "{2, 8}"
      ]
     },
     "execution_count": 15,
     "metadata": {},
     "output_type": "execute_result"
    }
   ],
   "source": [
    "# aplique a interseção dos conjuntos - intersection?\n",
    "\n",
    "\n",
    "interseccao = primos.intersection(nao_primos)\n",
    "interseccao"
   ]
  },
  {
   "cell_type": "code",
   "execution_count": 17,
   "id": "88b1fdce-e1e1-4ee4-bee3-788805f967d1",
   "metadata": {},
   "outputs": [
    {
     "name": "stdout",
     "output_type": "stream",
     "text": [
      "{3, 5, 7} \n",
      " {4, 6, 9, 10, 12}\n"
     ]
    }
   ],
   "source": [
    "# Aplique a diferença dos conjuntos difference\n",
    "\n",
    "\n",
    "diferenca_1 = primos.difference(nao_primos)\n",
    "\n",
    "diferenca_2 = nao_primos.difference(primos)\n",
    "\n",
    "print(diferenca_1,'\\n', diferenca_2)\n",
    "\n",
    "\n",
    "# Obs: Tem em um e não tem em outro,\n",
    "# A ordem nesse caso importa\n"
   ]
  },
  {
   "cell_type": "code",
   "execution_count": 18,
   "id": "8bd7b3b2-99f4-41db-9ba1-03384929e5ff",
   "metadata": {},
   "outputs": [
    {
     "data": {
      "text/plain": [
       "{2, 3, 5, 7, 8}"
      ]
     },
     "execution_count": 18,
     "metadata": {},
     "output_type": "execute_result"
    }
   ],
   "source": [
    "primos"
   ]
  },
  {
   "cell_type": "code",
   "execution_count": 19,
   "id": "8ccbe68c-38f1-4b3c-8719-e5961e300d08",
   "metadata": {},
   "outputs": [
    {
     "data": {
      "text/plain": [
       "{2, 4, 6, 8, 9, 10, 12}"
      ]
     },
     "execution_count": 19,
     "metadata": {},
     "output_type": "execute_result"
    }
   ],
   "source": [
    "nao_primos"
   ]
  },
  {
   "cell_type": "code",
   "execution_count": 21,
   "id": "1e8f980a-cea2-4553-a850-6ea7119a857d",
   "metadata": {},
   "outputs": [
    {
     "data": {
      "text/plain": [
       "{3, 4, 5, 6, 7, 9, 10, 12}"
      ]
     },
     "execution_count": 21,
     "metadata": {},
     "output_type": "execute_result"
    }
   ],
   "source": [
    "# Aplique a diferença simétrica\n",
    "\n",
    "\n",
    "diferenca_simetrica = primos.symmetric_difference(nao_primos)\n",
    "diferenca_simetrica"
   ]
  },
  {
   "cell_type": "code",
   "execution_count": 23,
   "id": "8ca6fef8-2d9e-48b1-ae39-bae1e04e09b4",
   "metadata": {},
   "outputs": [
    {
     "data": {
      "text/plain": [
       "False"
      ]
     },
     "execution_count": 23,
     "metadata": {},
     "output_type": "execute_result"
    }
   ],
   "source": [
    "# Aplique o subconjunto\n",
    "\n",
    "\n",
    "subconjunto = primos.issubset(nao_primos)\n",
    "subconjunto"
   ]
  },
  {
   "cell_type": "code",
   "execution_count": 25,
   "id": "111607dd-2bfb-441e-9387-5cb1496a1751",
   "metadata": {},
   "outputs": [
    {
     "data": {
      "text/plain": [
       "False"
      ]
     },
     "execution_count": 25,
     "metadata": {},
     "output_type": "execute_result"
    }
   ],
   "source": [
    "# Aplique o superconjunto\n",
    "\n",
    "\n",
    "superconjunto = primos.issuperset(nao_primos)\n",
    "superconjunto"
   ]
  },
  {
   "cell_type": "code",
   "execution_count": 26,
   "id": "bb3cf6ea-807a-4c1f-8ead-9a4f8dc9af7c",
   "metadata": {},
   "outputs": [
    {
     "data": {
      "text/plain": [
       "False"
      ]
     },
     "execution_count": 26,
     "metadata": {},
     "output_type": "execute_result"
    }
   ],
   "source": [
    "# Aplique conjuntos disjuntos\n",
    "\n",
    "\n",
    "disjuntos = primos.isdisjoint(nao_primos)\n",
    "disjuntos\n",
    "\n",
    "# Obs: dos conjuntos sem elementos em comum\n",
    "# retorna booleano\n",
    "\n",
    "# Exemplo com caso de retorno verdadeiro\n",
    "\n",
    "# a = {1,2,3}\n",
    "# b = {4,5,6}\n",
    "\n",
    "# print(a, '\\n',b)\n",
    "# print(a.isdisjoint(b))"
   ]
  },
  {
   "cell_type": "code",
   "execution_count": null,
   "id": "fb23443e-035d-4618-8774-09f6e6919ce1",
   "metadata": {},
   "outputs": [],
   "source": [
    "# TUPLAS, p6\n",
    "# Listas que não podem ser alteradas"
   ]
  },
  {
   "cell_type": "code",
   "execution_count": null,
   "id": "0958c000-123b-439f-8e4f-d99b38d3e196",
   "metadata": {},
   "outputs": [],
   "source": [
    "# Crie uma tupla\n",
    "\n",
    "\n",
    "# imutavel = (5, 1, 6, 8)\n",
    "# print(imutavel)"
   ]
  },
  {
   "cell_type": "code",
   "execution_count": 2,
   "id": "dc489e77-f93f-4c34-adc4-cfcc847b754b",
   "metadata": {},
   "outputs": [
    {
     "name": "stdout",
     "output_type": "stream",
     "text": [
      "['pal'] pal\n"
     ]
    }
   ],
   "source": [
    "# Criar uma tupla de strings usando a classe tuple,\n",
    "\n",
    "\n",
    "# palavra = tuple('palavra')\n",
    "# palavras = tuple(['um','dois','três'])\n",
    "\n",
    "# print(palavras, '\\n', palavra)"
   ]
  },
  {
   "cell_type": "code",
   "execution_count": 3,
   "id": "3ff586f3-6ac4-41a7-a2bf-9810e724cb9c",
   "metadata": {},
   "outputs": [
    {
     "name": "stdout",
     "output_type": "stream",
     "text": [
      "(1, 2, 3, 4) \n",
      " (1, 2, 3, 4)\n"
     ]
    }
   ],
   "source": [
    "# Criar uma tupla numérica usando classe tuple, \n",
    "# em seguida crie outra identica sem usar a class tuple\n",
    "\n",
    "\n",
    "# numeros = tuple([1, 2, 3, 4])\n",
    "# print(numeros)\n",
    "# print(len(numeros)"
   ]
  },
  {
   "cell_type": "code",
   "execution_count": 4,
   "id": "5b828f1a-d0b9-4286-882d-939d7ee516b2",
   "metadata": {},
   "outputs": [
    {
     "data": {
      "text/plain": [
       "((1, 2, 3), (4, 5, 6), (7, 8, 9))"
      ]
     },
     "execution_count": 4,
     "metadata": {},
     "output_type": "execute_result"
    }
   ],
   "source": [
    "# Crie uma matriz de tuplas\n",
    "\n",
    "\n",
    "# matriz = (\n",
    "#     (1, 'a', 2),\n",
    "#     ('b', 3, 4),\n",
    "#     (6, 5, 'c'),\n",
    "# )\n",
    "\n",
    "# print(matriz)"
   ]
  },
  {
   "cell_type": "code",
   "execution_count": null,
   "id": "03d4741b-ea35-48f3-b4c4-ea6039c1baa2",
   "metadata": {},
   "outputs": [],
   "source": [
    "# Acesse um elemento da matriz\n",
    "\n",
    "\n",
    "# print(matriz[1][2])"
   ]
  },
  {
   "cell_type": "code",
   "execution_count": 1,
   "id": "d472f90b-6e6c-4fed-a4a5-a345231858f6",
   "metadata": {},
   "outputs": [
    {
     "data": {
      "text/plain": [
       "(1, True, 'carro', (1, 2, 3))"
      ]
     },
     "execution_count": 1,
     "metadata": {},
     "output_type": "execute_result"
    }
   ],
   "source": [
    "# Crie uma tupla com elementos de diferentes tipos\n",
    "\n",
    "\n",
    "# tipos = ([1,'a',{1,2,3},True])\n",
    "# tipos"
   ]
  },
  {
   "cell_type": "code",
   "execution_count": 2,
   "id": "0570db3b-bdbd-4aa9-adee-3cba24bb88e1",
   "metadata": {},
   "outputs": [
    {
     "data": {
      "text/plain": [
       "{(0, 1, 2): 'soldado', (2, 3, 4): 'aluno'}"
      ]
     },
     "execution_count": 2,
     "metadata": {},
     "output_type": "execute_result"
    }
   ],
   "source": [
    "# Crie um dicionário imutável\n",
    "\n",
    "\n",
    "# dicionario_imutavel = {(8, 5) : 1, (9, 10) : 5, (8, 6) : 8} # Curiosidade: Dicionário com tuplas\n",
    "# print(dicionario_imutavel)"
   ]
  },
  {
   "cell_type": "code",
   "execution_count": 4,
   "id": "8cbb9dd2-0d31-498f-affc-9849125f8673",
   "metadata": {},
   "outputs": [
    {
     "name": "stdout",
     "output_type": "stream",
     "text": [
      "True\n"
     ]
    }
   ],
   "source": [
    "# Uso do isinstance() em tuplas\n",
    "\n",
    "\n",
    "# tupla = ('luz', 'camera', 'ação')\n",
    "\n",
    "# if isinstance(tupla, tuple):\n",
    "#     print('sim')\n",
    "# else:\n",
    "#     print('não')\n",
    "\n",
    "\n",
    "# isinstance() -> é usado para verificar se um objeto é uma instância de uma determinada classe ou de uma subclasse dela. \n",
    "# Ele retorna um valor booleano, True se o objeto for uma instância da classe especificada ou de uma subclasse dela, \n",
    "# ou False caso contrário."
   ]
  },
  {
   "cell_type": "code",
   "execution_count": null,
   "id": "df4ae61e-b857-4611-a34a-73d3f605a729",
   "metadata": {},
   "outputs": [],
   "source": [
    "# LISTAS: Algumas funções, p7\n",
    "# # http://excript.com/python/incluindo-alterando-excluindo-elementos-lista-python.html"
   ]
  },
  {
   "cell_type": "code",
   "execution_count": 1,
   "id": "3c1bafc6-ae3c-4c15-b8d3-026d79091ad1",
   "metadata": {},
   "outputs": [
    {
     "name": "stdout",
     "output_type": "stream",
     "text": [
      "[1, 2, 4, 5, 8, 13, 21]\n"
     ]
    }
   ],
   "source": [
    "# Crie uma lista com os elementos da sequencia fibonacchi\n",
    "\n",
    "\n",
    "Fibo = [1, 2, 4, 5, 8, 13, 21]\n",
    "print(Fibo)"
   ]
  },
  {
   "cell_type": "code",
   "execution_count": 2,
   "id": "eb7f0901-0e6e-4949-88cf-1fad6806ee8e",
   "metadata": {},
   "outputs": [
    {
     "name": "stdout",
     "output_type": "stream",
     "text": [
      "[1, 2, 4, 5, 8, 13, 21, [1, 2, 3]]\n"
     ]
    }
   ],
   "source": [
    "# Adicione um elemento no final da lista\n",
    "\n",
    "\n",
    "Fibo.append(32)\n",
    "print(Fibo)"
   ]
  },
  {
   "cell_type": "code",
   "execution_count": null,
   "id": "cd71031f-b56c-427d-bf08-05eddcdbbb29",
   "metadata": {},
   "outputs": [],
   "source": [
    "# Adicione um elemento passando o index\n",
    "\n",
    "\n",
    "# Fibo.insert(1, 1)\n",
    "# print(Fibo)"
   ]
  },
  {
   "cell_type": "code",
   "execution_count": null,
   "id": "87bb598a-ccb5-40dd-afba-7c13b575dee3",
   "metadata": {},
   "outputs": [],
   "source": [
    "# Alteração de elemento passando o index\n",
    "\n",
    "\n",
    "# Fibo[2] = 3\n",
    "# print(Fibo)"
   ]
  },
  {
   "cell_type": "code",
   "execution_count": null,
   "id": "50ed8a4b-184e-48c7-ad39-071f6b737f0d",
   "metadata": {},
   "outputs": [],
   "source": [
    "# Excluindo elento passando index\n",
    "\n",
    "\n",
    "# del(Fibo[3])\n",
    "# print(Fibo)"
   ]
  },
  {
   "cell_type": "code",
   "execution_count": null,
   "id": "a4c70b70-79c1-4e76-acfa-df33a1a59557",
   "metadata": {},
   "outputs": [],
   "source": [
    "# Excluir elementos num intervalo. OBS: não inclue o primeiro e inclue o último na exclusão\n",
    "\n",
    "\n",
    "# Naturais = [1, 2, 3, 4, 5, 6, 7, 8]\n",
    "# print(Naturais)\n",
    "\n",
    "# del(Naturais[3:6])\n",
    "# print(Naturais)"
   ]
  },
  {
   "cell_type": "code",
   "execution_count": null,
   "id": "421db485-7f22-4a7e-bcea-5faca2da8236",
   "metadata": {},
   "outputs": [],
   "source": [
    "# Excluir elementos de modo que eles tenham um intervalo mínimo entre si (obs: start:stop:step)\n",
    "\n",
    "\n",
    "# del(Naturais[::2])\n",
    "# print(Naturais)"
   ]
  },
  {
   "cell_type": "code",
   "execution_count": null,
   "id": "b33f9102-f2eb-4fd3-ac91-fb69011cc321",
   "metadata": {},
   "outputs": [],
   "source": [
    "# Retornar elemento e ao mesmo tempo remover, exclui o último por default mas é possível indexar\n",
    "# Função com comportamento de estrutura pilha\n",
    "\n",
    "\n",
    "# Naturais.pop()\n",
    "# print(Naturais)\n",
    "\n",
    "# Naturais.pop(0)\n",
    "# print(Naturais)"
   ]
  },
  {
   "cell_type": "code",
   "execution_count": null,
   "id": "bf5efa0b-cd63-4d18-a8c3-e4538f5adf32",
   "metadata": {},
   "outputs": [],
   "source": [
    "# Removendo apontando para o elemento em si\n",
    "# Se ouverem dois elementos com o mesmo nome ele remove a primeira ocorrência\n",
    "\n",
    "\n",
    "cores = ['azul', 'amarelo', 'amarelo', 'vermelho', 'azul', 'amarelo', 'rosa', 'preto']\n",
    "\n",
    "cores.remove('amarelo')\n",
    "print(cores)"
   ]
  },
  {
   "cell_type": "code",
   "execution_count": null,
   "id": "bbc12d45-ee88-4030-b797-5e6ab994f1a1",
   "metadata": {},
   "outputs": [],
   "source": [
    "# Contando quantas vezes um elemento aparece na lista\n",
    "\n",
    "\n",
    "# print(cores.count('amarelo'))"
   ]
  },
  {
   "cell_type": "code",
   "execution_count": null,
   "id": "2c7deb03-ee15-4ca4-8c18-58683d5faf9c",
   "metadata": {},
   "outputs": [],
   "source": [
    "# Descobrindo a primeira ocorrência de um termo numa lista\n",
    "\n",
    "\n",
    "# print(cores.index('amarelo'))\n",
    "# print(cores.index('vermelho'))"
   ]
  },
  {
   "cell_type": "code",
   "execution_count": null,
   "id": "0f6f9f14-4479-4e5e-be30-13da5e88b173",
   "metadata": {},
   "outputs": [],
   "source": [
    "# Realizando o espelhamento de uma lista (revertendo a ordem dos termos)\n",
    "\n",
    "\n",
    "# cores.reverse()\n",
    "# print(cores)"
   ]
  },
  {
   "cell_type": "code",
   "execution_count": null,
   "id": "82d7eed6-841b-4d41-acaa-68420b6aaccb",
   "metadata": {},
   "outputs": [],
   "source": [
    "# ORDENANDO A LISTA"
   ]
  },
  {
   "cell_type": "code",
   "execution_count": null,
   "id": "c145e149-f29b-4673-9c95-9acf2812eb00",
   "metadata": {},
   "outputs": [],
   "source": [
    "# Alfabeticamente\n",
    "\n",
    "\n",
    "# cores.sort()\n",
    "# print(cores)"
   ]
  },
  {
   "cell_type": "code",
   "execution_count": null,
   "id": "795a19aa-4688-4aa9-abf1-e5aaaf00248a",
   "metadata": {},
   "outputs": [],
   "source": [
    "# revertendo a ordem alfabética\n",
    "\n",
    "\n",
    "# cores.sort(reverse=True)\n",
    "# print(cores)"
   ]
  },
  {
   "cell_type": "code",
   "execution_count": null,
   "id": "a7c1f3f0-59f9-43f8-a27c-66f5a7fee295",
   "metadata": {},
   "outputs": [],
   "source": [
    "# Ordenando pelo tamanho -> do menor para o maior\n",
    "\n",
    "\n",
    "# cores.sort(key=lambda x: len(x))\n",
    "# print(cores)"
   ]
  },
  {
   "cell_type": "code",
   "execution_count": null,
   "id": "f4baf317-3a37-4d2a-b434-467f7662b503",
   "metadata": {},
   "outputs": [],
   "source": [
    "# Ordenando por tamanho e revertendo a ordem simultaneamente\n",
    "\n",
    "\n",
    "# cores.sort(key=lambda x: len(x), reverse=True)\n",
    "# print(cores)"
   ]
  },
  {
   "cell_type": "code",
   "execution_count": null,
   "id": "190a9eec-9e6d-461b-b7e2-326ff171070b",
   "metadata": {},
   "outputs": [],
   "source": [
    "# Usando sorted para realizar as mesmas funcionalidades\n",
    "\n",
    "\n",
    "print(sorted(cores, key=lambda x: len(x), reverse=True)) "
   ]
  },
  {
   "cell_type": "code",
   "execution_count": null,
   "id": "7ebc9f50-3273-4a2f-a830-c80b92a73e8e",
   "metadata": {},
   "outputs": [],
   "source": [
    "# Excluindo todos os elementos\n",
    "\n",
    "\n",
    "# Fibo.clear()\n",
    "# print(Fibo)"
   ]
  },
  {
   "cell_type": "code",
   "execution_count": 3,
   "id": "f6d7add0-a649-4432-92e6-261ea598c80e",
   "metadata": {},
   "outputs": [
    {
     "data": {
      "text/plain": [
       "[2, 4, 6, 8, 10, 12, 14, 16, 18]"
      ]
     },
     "execution_count": 3,
     "metadata": {},
     "output_type": "execute_result"
    }
   ],
   "source": [
    "# Obs: Exemplo de lista criada usando for, in, range e if numa mesma sentença...\n",
    "# ... sem qualquer sinal de separação:\n",
    "\n",
    "\n",
    "# lista = [x for x in range(10) if x % 2 == 0]\n",
    "# print(lista)"
   ]
  },
  {
   "cell_type": "code",
   "execution_count": null,
   "id": "26fe132a-d243-4251-84ec-ce813ae3c8df",
   "metadata": {},
   "outputs": [],
   "source": []
  }
 ],
 "metadata": {
  "kernelspec": {
   "display_name": "Python 3 (ipykernel)",
   "language": "python",
   "name": "python3"
  },
  "language_info": {
   "codemirror_mode": {
    "name": "ipython",
    "version": 3
   },
   "file_extension": ".py",
   "mimetype": "text/x-python",
   "name": "python",
   "nbconvert_exporter": "python",
   "pygments_lexer": "ipython3",
   "version": "3.10.9"
  }
 },
 "nbformat": 4,
 "nbformat_minor": 5
}
